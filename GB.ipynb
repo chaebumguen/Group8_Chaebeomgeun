{
 "cells": [
  {
   "cell_type": "code",
   "execution_count": 23,
   "metadata": {
    "scrolled": true
   },
   "outputs": [
    {
     "data": {
      "text/plain": [
       "Nationality\n",
       "Afghanistan             1.000000\n",
       "Albania                 1.102564\n",
       "Algeria                 1.300000\n",
       "Andorra                 1.000000\n",
       "Angola                  1.133333\n",
       "Antigua & Barbuda       1.000000\n",
       "Argentina               1.133547\n",
       "Armenia                 1.300000\n",
       "Australia               1.012712\n",
       "Austria                 1.067568\n",
       "Azerbaijan              1.000000\n",
       "Barbados                1.000000\n",
       "Belarus                 1.250000\n",
       "Belgium                 1.220077\n",
       "Belize                  1.000000\n",
       "Benin                   1.000000\n",
       "Bermuda                 1.000000\n",
       "Bolivia                 1.033333\n",
       "Bosnia Herzegovina      1.213115\n",
       "Botswana                1.000000\n",
       "Brazil                  1.163636\n",
       "Bulgaria                1.062500\n",
       "Burkina Faso            1.250000\n",
       "Burundi                 1.333333\n",
       "Cameroon                1.222222\n",
       "Canada                  1.015625\n",
       "Cape Verde              1.105263\n",
       "Central African Rep.    1.333333\n",
       "Chad                    1.000000\n",
       "Chile                   1.082474\n",
       "                          ...   \n",
       "Sierra Leone            1.000000\n",
       "Slovakia                1.129630\n",
       "Slovenia                1.254545\n",
       "South Africa            1.014085\n",
       "South Sudan             1.000000\n",
       "Spain                   1.180205\n",
       "St Kitts Nevis          1.000000\n",
       "St Lucia                1.000000\n",
       "Sudan                   1.000000\n",
       "Suriname                1.000000\n",
       "Sweden                  1.055556\n",
       "Switzerland             1.177273\n",
       "Syria                   1.111111\n",
       "São Tomé & Príncipe     1.000000\n",
       "Tanzania                1.000000\n",
       "Thailand                1.000000\n",
       "Togo                    1.333333\n",
       "Trinidad & Tobago       1.000000\n",
       "Tunisia                 1.062500\n",
       "Turkey                  1.092409\n",
       "Uganda                  1.000000\n",
       "Ukraine                 1.123288\n",
       "United Arab Emirates    2.000000\n",
       "United States           1.053824\n",
       "Uruguay                 1.181208\n",
       "Uzbekistan              1.000000\n",
       "Venezuela               1.106061\n",
       "Wales                   1.093023\n",
       "Zambia                  1.000000\n",
       "Zimbabwe                1.000000\n",
       "Name: International Reputation, Length: 164, dtype: float64"
      ]
     },
     "execution_count": 23,
     "metadata": {},
     "output_type": "execute_result"
    }
   ],
   "source": [
    "import pandas as pd\n",
    "df = pd.read_csv('data.csv')\n",
    "df.groupby('Nationality')['International Reputation'].mean()"
   ]
  },
  {
   "cell_type": "code",
   "execution_count": null,
   "metadata": {},
   "outputs": [],
   "source": []
  }
 ],
 "metadata": {
  "kernelspec": {
   "display_name": "Python 3",
   "language": "python",
   "name": "python3"
  },
  "language_info": {
   "codemirror_mode": {
    "name": "ipython",
    "version": 3
   },
   "file_extension": ".py",
   "mimetype": "text/x-python",
   "name": "python",
   "nbconvert_exporter": "python",
   "pygments_lexer": "ipython3",
   "version": "3.7.3"
  }
 },
 "nbformat": 4,
 "nbformat_minor": 2
}
